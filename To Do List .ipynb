{
 "cells": [
  {
   "cell_type": "code",
   "execution_count": 15,
   "id": "6ba267ac",
   "metadata": {},
   "outputs": [],
   "source": [
    "import tkinter as tk\n",
    "import sqlite3\n",
    "\n",
    "class ToDoApp:\n",
    "    def __init__(self, root):\n",
    "        self.root = root\n",
    "        self.root.title(\"To-Do List App\")\n",
    "        \n",
    "        # Create database or connect to existing\n",
    "        self.conn = sqlite3.connect(\"todo.db\")\n",
    "        self.cursor = self.conn.cursor()\n",
    "        self.cursor.execute(\"CREATE TABLE IF NOT EXISTS tasks (id INTEGER PRIMARY KEY, task TEXT)\")\n",
    "        self.conn.commit()\n",
    "        \n",
    "        self.create_ui()\n",
    "    \n",
    "    def create_ui(self):\n",
    "        # Create input field and buttons\n",
    "        self.task_entry = tk.Entry(self.root, width=40)\n",
    "        self.task_entry.pack(pady=10)\n",
    "        \n",
    "        self.add_button = tk.Button(self.root, text=\"Add Task\",bg=\"#E5E815\", command=self.add_task)\n",
    "        self.add_button.pack()\n",
    "        \n",
    "        self.task_listbox = tk.Listbox(self.root, width=40,bg=\"#20C9D4\")\n",
    "        self.task_listbox.pack(pady=10)\n",
    "        \n",
    "        self.update_button = tk.Button(self.root, text=\"Update Task\", bg=\"#4A9A33\", command=self.update_task)\n",
    "        self.update_button.pack()\n",
    "        \n",
    "        self.delete_button = tk.Button(self.root, text=\"Delete Task\",bg=\"#F3000B\", command=self.delete_task)\n",
    "        self.delete_button.pack()\n",
    "        \n",
    "        # Populate initial task list\n",
    "        self.update_task_list()\n",
    "    \n",
    "    def update_task_list(self):\n",
    "        self.task_listbox.delete(0, tk.END)\n",
    "        self.cursor.execute(\"SELECT * FROM tasks\")\n",
    "        tasks = self.cursor.fetchall()\n",
    "        for task in tasks:\n",
    "            self.task_listbox.insert(tk.END, task[1])\n",
    "    \n",
    "    def add_task(self):\n",
    "        task = self.task_entry.get()\n",
    "        if task:\n",
    "            self.cursor.execute(\"INSERT INTO tasks (task) VALUES (?)\", (task,))\n",
    "            self.conn.commit()\n",
    "            self.task_entry.delete(0, tk.END)\n",
    "            self.update_task_list()\n",
    "    \n",
    "    def update_task(self):\n",
    "        selected_task = self.task_listbox.get(tk.ACTIVE)\n",
    "        new_task = self.task_entry.get()\n",
    "        if selected_task and new_task:\n",
    "            self.cursor.execute(\"UPDATE tasks SET task=? WHERE task=?\", (new_task, selected_task))\n",
    "            self.conn.commit()\n",
    "            self.update_task_list()\n",
    "    \n",
    "    def delete_task(self):\n",
    "        selected_task = self.task_listbox.get(tk.ACTIVE)\n",
    "        if selected_task:\n",
    "            self.cursor.execute(\"DELETE FROM tasks WHERE task=?\", (selected_task,))\n",
    "            self.conn.commit()\n",
    "            self.update_task_list()\n",
    "\n",
    "if __name__ == \"__main__\":\n",
    "    root = tk.Tk()\n",
    "    app = ToDoApp(root)\n",
    "    root.mainloop()\n"
   ]
  },
  {
   "cell_type": "code",
   "execution_count": null,
   "id": "b02cd6d2",
   "metadata": {},
   "outputs": [],
   "source": []
  }
 ],
 "metadata": {
  "kernelspec": {
   "display_name": "Python 3 (ipykernel)",
   "language": "python",
   "name": "python3"
  },
  "language_info": {
   "codemirror_mode": {
    "name": "ipython",
    "version": 3
   },
   "file_extension": ".py",
   "mimetype": "text/x-python",
   "name": "python",
   "nbconvert_exporter": "python",
   "pygments_lexer": "ipython3",
   "version": "3.9.13"
  },
  "varInspector": {
   "cols": {
    "lenName": 16,
    "lenType": 16,
    "lenVar": 40
   },
   "kernels_config": {
    "python": {
     "delete_cmd_postfix": "",
     "delete_cmd_prefix": "del ",
     "library": "var_list.py",
     "varRefreshCmd": "print(var_dic_list())"
    },
    "r": {
     "delete_cmd_postfix": ") ",
     "delete_cmd_prefix": "rm(",
     "library": "var_list.r",
     "varRefreshCmd": "cat(var_dic_list()) "
    }
   },
   "types_to_exclude": [
    "module",
    "function",
    "builtin_function_or_method",
    "instance",
    "_Feature"
   ],
   "window_display": false
  }
 },
 "nbformat": 4,
 "nbformat_minor": 5
}
